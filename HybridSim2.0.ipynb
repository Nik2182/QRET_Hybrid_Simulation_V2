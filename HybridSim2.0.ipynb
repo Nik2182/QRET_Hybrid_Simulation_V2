{
 "cells": [
  {
   "cell_type": "markdown",
   "metadata": {},
   "source": [
    "# Hybrid Simulator 2.0\n",
    "Welcome! this code runs through the simulation of a hybrid rocket engine"
   ]
  },
  {
   "cell_type": "markdown",
   "metadata": {},
   "source": [
    "## Data Input"
   ]
  },
  {
   "cell_type": "code",
   "execution_count": 2,
   "metadata": {},
   "outputs": [],
   "source": [
    "#  Oxidizer tank\n",
    "V = 0 #volume of tank\n",
    "m_t = 0 #mass of tank\n",
    "m_l = 0 #mass of tank + oxidizer mass\n",
    "\n",
    "#Injector\n",
    "C_d = 0\n",
    "A_inj = 0\n",
    "alpha_nozz = 0\n",
    "\n",
    "#Fuel Grain config stuff\n",
    "\n",
    "#Nozzle dimensions\n",
    "A_star = 0#throat area\n",
    "A_exit = 0#exit area\n",
    "\n",
    "#environmental conditions\n",
    "\n",
    "P_e = 0\n",
    "T_e = 0\n",
    "\n",
    "#Oxidizer and Fuel Material data"
   ]
  },
  {
   "cell_type": "markdown",
   "metadata": {},
   "source": [
    "## Initialization"
   ]
  },
  {
   "cell_type": "code",
   "execution_count": 3,
   "metadata": {},
   "outputs": [],
   "source": [
    "#Initial tank conditions\n",
    "P_t =  0 #tank pressure\n",
    "T_t =  0 #tank temperature\n",
    "m_l =  0 #mass of liquid nitrous\n",
    "m_g =  0 #mass of gaseous nitrous\n",
    "\n",
    "#\"Allocate matrices and divide fuel grain into 1D mess\"   ---- I honestly don't know what this means tbh"
   ]
  },
  {
   "cell_type": "code",
   "execution_count": 4,
   "metadata": {},
   "outputs": [],
   "source": [
    "#While fuel and oxidizer not depleted: \n",
    "\n",
    "    #1-- Injector Model\n",
    "    #2-- Tank Flush Model\n",
    "    #3-- Fuel Grain Regression model\n",
    "    #4-- NASA CEA Calculations\n",
    "    #5-- Chamber Pressure calculations\n",
    "    #6-- are P_ch amd m_ftot errors under 0.01% ?? if not go to 3\n",
    "\n",
    "#display results"
   ]
  },
  {
   "cell_type": "code",
   "execution_count": 5,
   "metadata": {},
   "outputs": [
    {
     "name": "stdout",
     "output_type": "stream",
     "text": [
      "test\n"
     ]
    }
   ],
   "source": [
    "print (\"test\")"
   ]
  }
 ],
 "metadata": {
  "interpreter": {
   "hash": "1329810a962040edcad4456275bf5005f562e8a23d8dd2c9483aa5a5cb607451"
  },
  "kernelspec": {
   "display_name": "Python 3.8.5 64-bit ('base': conda)",
   "language": "python",
   "name": "python3"
  },
  "language_info": {
   "codemirror_mode": {
    "name": "ipython",
    "version": 3
   },
   "file_extension": ".py",
   "mimetype": "text/x-python",
   "name": "python",
   "nbconvert_exporter": "python",
   "pygments_lexer": "ipython3",
   "version": "3.7.2"
  },
  "orig_nbformat": 4
 },
 "nbformat": 4,
 "nbformat_minor": 2
}
